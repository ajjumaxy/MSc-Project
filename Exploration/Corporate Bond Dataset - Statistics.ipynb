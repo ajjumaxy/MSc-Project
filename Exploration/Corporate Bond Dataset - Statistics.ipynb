{
 "cells": [
  {
   "cell_type": "markdown",
   "metadata": {},
   "source": [
    "### Settings###"
   ]
  },
  {
   "cell_type": "code",
   "execution_count": 1,
   "metadata": {},
   "outputs": [],
   "source": [
    "import pandas as pd\n",
    "from os.path import join\n",
    "from datetime import datetime"
   ]
  },
  {
   "cell_type": "code",
   "execution_count": 2,
   "metadata": {},
   "outputs": [],
   "source": [
    "global_path = 'C:\\\\Data\\\\UCL\\\\@MSc Project - Data and sources\\\\List of bonds'\n",
    "\n",
    "# date range\n",
    "min_date = datetime.strptime(\n",
    "    '2018-04-01', '%Y-%m-%d'\n",
    ")\n",
    "\n",
    "max_date = datetime.strptime(\n",
    "    '2020-07-31', '%Y-%m-%d'\n",
    ")\n",
    "\n",
    "# load the data\n",
    "sp_bonds = pd.read_csv(\n",
    "    join(global_path, 'Bond_dataset.csv')\n",
    ")\n",
    "ftse_bonds = pd.read_csv(\n",
    "    join(global_path, 'Bond_FTSE_dataset.csv')\n",
    ")\n",
    "euro_bonds = pd.read_csv(\n",
    "    join(global_path, 'Bond_EURO_dataset.csv')\n",
    ")\n",
    "\n",
    "# explicitlity enforce Date column to have date format\n",
    "sp_bonds['Date'] = pd.to_datetime(sp_bonds['Date'])\n",
    "ftse_bonds['Date'] = pd.to_datetime(ftse_bonds['Date'])\n",
    "euro_bonds['Date'] = pd.to_datetime(euro_bonds['Date'])\n",
    "\n",
    "sp_bonds['Interest'] = sp_bonds['Bond'].apply(lambda x: float(x.split()[1]))\n",
    "\n",
    "# filter the data\n",
    "sp_bonds = (\n",
    "    sp_bonds[(sp_bonds.Date >= min_date) & (sp_bonds.Date <= max_date)]\n",
    ")\n",
    "\n",
    "ftse_bonds = (\n",
    "    ftse_bonds[(ftse_bonds.Date >= min_date) & (ftse_bonds.Date <= max_date)]\n",
    ")\n",
    "\n",
    "euro_bonds = (\n",
    "    euro_bonds[(euro_bonds.Date >= min_date) & (euro_bonds.Date <= max_date)]\n",
    ")"
   ]
  },
  {
   "cell_type": "code",
   "execution_count": 5,
   "metadata": {},
   "outputs": [
    {
     "name": "stdout",
     "output_type": "stream",
     "text": [
      "Month return: 0.4906 %.\n",
      "Annualised return: 6.048 %.\n"
     ]
    }
   ],
   "source": [
    "sp_bonds['Price'] = (sp_bonds['Ask_price'] + sp_bonds['Bid_price']) / 2\n",
    "\n",
    "month_return = pd.pivot_table(\n",
    "    data=sp_bonds,\n",
    "    values='Price',\n",
    "    columns='Date',\n",
    "    index='Bond'\n",
    ").T.rolling(window=2).apply(lambda x: (100*x.iloc[1]/x.iloc[0] - 100) / 100).T.mean(axis=0).mean()\n",
    "\n",
    "print(f'Month return: {100*month_return:.4f} %.')\n",
    "\n",
    "annualised_return = ((1 + month_return)**12 - 1)\n",
    "\n",
    "print(f'Annualised return: {100*annualised_return:.3f} %.')"
   ]
  },
  {
   "cell_type": "code",
   "execution_count": null,
   "metadata": {},
   "outputs": [],
   "source": []
  }
 ],
 "metadata": {
  "kernelspec": {
   "display_name": "Python 3",
   "language": "python",
   "name": "python3"
  },
  "language_info": {
   "codemirror_mode": {
    "name": "ipython",
    "version": 3
   },
   "file_extension": ".py",
   "mimetype": "text/x-python",
   "name": "python",
   "nbconvert_exporter": "python",
   "pygments_lexer": "ipython3",
   "version": "3.7.1"
  }
 },
 "nbformat": 4,
 "nbformat_minor": 4
}
