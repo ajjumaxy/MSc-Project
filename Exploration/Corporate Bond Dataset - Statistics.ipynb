{
 "cells": [
  {
   "cell_type": "markdown",
   "metadata": {},
   "source": [
    "### Settings###"
   ]
  },
  {
   "cell_type": "code",
   "execution_count": 1,
   "metadata": {},
   "outputs": [],
   "source": [
    "import pandas as pd\n",
    "from os.path import join\n",
    "from datetime import datetime"
   ]
  },
  {
   "cell_type": "code",
   "execution_count": 2,
   "metadata": {},
   "outputs": [],
   "source": [
    "global_path = 'C:\\\\Data\\\\UCL\\\\@MSc Project - Data and sources\\\\List of bonds'\n",
    "\n",
    "# date range\n",
    "min_date = datetime.strptime(\n",
    "    '2018-04-01', '%Y-%m-%d'\n",
    ")\n",
    "\n",
    "max_date = datetime.strptime(\n",
    "    '2020-07-31', '%Y-%m-%d'\n",
    ")\n",
    "\n",
    "# load the data\n",
    "sp_bonds = pd.read_csv(\n",
    "    join(global_path, 'Bond_dataset.csv')\n",
    ")\n",
    "\n",
    "# explicitlity enforce Date column to have date format\n",
    "sp_bonds['Date'] = pd.to_datetime(sp_bonds['Date'])\n",
    "sp_bonds['Interest'] = sp_bonds['Bond'].apply(lambda x: float(x.split()[1]))\n",
    "\n",
    "# filter the data\n",
    "sp_bonds = (\n",
    "    sp_bonds[(sp_bonds.Date >= min_date) & (sp_bonds.Date <= max_date)]\n",
    ")"
   ]
  },
  {
   "cell_type": "code",
   "execution_count": 3,
   "metadata": {},
   "outputs": [
    {
     "name": "stdout",
     "output_type": "stream",
     "text": [
      "Month return: 0.4906 %.\n",
      "Annualised return: 6.048 %.\n"
     ]
    }
   ],
   "source": [
    "sp_bonds['Price'] = (sp_bonds['Ask_price'] + sp_bonds['Bid_price']) / 2\n",
    "\n",
    "month_return = pd.pivot_table(\n",
    "    data=sp_bonds,\n",
    "    values='Price',\n",
    "    columns='Date',\n",
    "    index='Bond'\n",
    ").T.rolling(window=2).apply(lambda x: (100*x.iloc[1]/x.iloc[0] - 100) / 100).T.mean(axis=0).mean()\n",
    "\n",
    "print(f'Month return: {100*month_return:.4f} %.')\n",
    "\n",
    "annualised_return = ((1 + month_return)**12 - 1)\n",
    "\n",
    "\n",
    "print(f'Annualised return: {100*annualised_return:.3f} %.')"
   ]
  },
  {
   "cell_type": "code",
   "execution_count": 7,
   "metadata": {},
   "outputs": [
    {
     "name": "stdout",
     "output_type": "stream",
     "text": [
      "63308 Date\n",
      "2018-04-30    2261\n",
      "2018-05-31    2261\n",
      "2018-06-30    2261\n",
      "2018-07-31    2261\n",
      "2018-08-31    2261\n",
      "2018-09-30    2261\n",
      "2018-10-31    2261\n",
      "2018-11-30    2261\n",
      "2018-12-31    2261\n",
      "2019-01-31    2261\n",
      "2019-02-28    2261\n",
      "2019-03-31    2261\n",
      "2019-04-30    2261\n",
      "2019-05-31    2261\n",
      "2019-06-30    2261\n",
      "2019-07-31    2261\n",
      "2019-08-31    2261\n",
      "2019-09-30    2261\n",
      "2019-10-31    2261\n",
      "2019-11-30    2261\n",
      "2019-12-31    2261\n",
      "2020-01-31    2261\n",
      "2020-02-29    2261\n",
      "2020-03-31    2261\n",
      "2020-04-30    2261\n",
      "2020-05-31    2261\n",
      "2020-06-30    2261\n",
      "2020-07-31    2261\n",
      "dtype: int64\n"
     ]
    }
   ],
   "source": [
    "return_table = pd.pivot_table(\n",
    "    data=sp_bonds,\n",
    "    values='Price',\n",
    "    columns='Date',\n",
    "    index='Bond'\n",
    ")\n",
    "\n",
    "table_size = return_table.shape[0] * return_table.shape[1]\n",
    "\n",
    "non_nan = return_table.notnull().count()\n",
    "\n",
    "print(table_size, non_nan)"
   ]
  },
  {
   "cell_type": "code",
   "execution_count": 11,
   "metadata": {},
   "outputs": [
    {
     "data": {
      "text/plain": [
       "44044"
      ]
     },
     "execution_count": 11,
     "metadata": {},
     "output_type": "execute_result"
    }
   ],
   "source": [
    "return_table.notnull().sum().sum()"
   ]
  },
  {
   "cell_type": "code",
   "execution_count": 12,
   "metadata": {},
   "outputs": [
    {
     "data": {
      "text/plain": [
       "(2261, 28)"
      ]
     },
     "execution_count": 12,
     "metadata": {},
     "output_type": "execute_result"
    }
   ],
   "source": [
    "return_table.shape"
   ]
  },
  {
   "cell_type": "code",
   "execution_count": null,
   "metadata": {},
   "outputs": [],
   "source": []
  }
 ],
 "metadata": {
  "kernelspec": {
   "display_name": "Python 3",
   "language": "python",
   "name": "python3"
  },
  "language_info": {
   "codemirror_mode": {
    "name": "ipython",
    "version": 3
   },
   "file_extension": ".py",
   "mimetype": "text/x-python",
   "name": "python",
   "nbconvert_exporter": "python",
   "pygments_lexer": "ipython3",
   "version": "3.7.1"
  }
 },
 "nbformat": 4,
 "nbformat_minor": 4
}
