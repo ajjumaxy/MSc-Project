{
 "cells": [
  {
   "cell_type": "markdown",
   "metadata": {},
   "source": [
    "## Settings"
   ]
  },
  {
   "cell_type": "code",
   "execution_count": 1,
   "metadata": {},
   "outputs": [],
   "source": [
    "from os import listdir\n",
    "from os.path import isfile, join\n",
    "\n",
    "import numpy as np\n",
    "import pandas as pd\n",
    "import matplotlib.pyplot as plt\n",
    "import seaborn as sns\n",
    "\n",
    "%matplotlib inline"
   ]
  },
  {
   "cell_type": "code",
   "execution_count": 2,
   "metadata": {},
   "outputs": [],
   "source": [
    "main_path = 'C:\\\\Data\\\\UCL\\\\@MSc Project - Data and Sources\\\\Sentiment results\\\\Portfolios\\\\New'"
   ]
  },
  {
   "cell_type": "markdown",
   "metadata": {},
   "source": [
    "## Load the data"
   ]
  },
  {
   "cell_type": "code",
   "execution_count": 11,
   "metadata": {},
   "outputs": [],
   "source": [
    "files = [\n",
    "    'RETURNS_LONGS_S&P 500_Rating_1M.csv', 'RETURNS_SHORTS_S&P 500_Rating_1M.csv',\n",
    "    'RETURNS_LONGS_S&P 500_Rating_3M_Diff.csv', 'RETURNS_SHORTS_S&P 500_Rating_3M_Diff.csv'\n",
    "]"
   ]
  },
  {
   "cell_type": "code",
   "execution_count": 12,
   "metadata": {},
   "outputs": [],
   "source": [
    "data = {f: pd.read_csv(join(main_path, f), index_col=0) for f in files}"
   ]
  },
  {
   "cell_type": "markdown",
   "metadata": {},
   "source": [
    "## Get months return"
   ]
  },
  {
   "cell_type": "code",
   "execution_count": 15,
   "metadata": {},
   "outputs": [],
   "source": [
    "min_dim = min([dataset.shape[1] for dataset in data.values()])\n",
    "\n",
    "month_returns = {\n",
    "    key: dataset.iloc[:,-min_dim:].mean(axis=0) for (key, dataset) in data.items()\n",
    "}\n",
    "\n",
    "month_returns_df = pd.DataFrame(month_returns)\n",
    "month_returns_df.columns = ['1M_L', '1M_S', 'D3M_L', 'D3M_S']"
   ]
  },
  {
   "cell_type": "code",
   "execution_count": 22,
   "metadata": {},
   "outputs": [],
   "source": [
    "return_1M = month_returns_df.T.iloc[:2,:].sum(axis=0)\n",
    "return_D3M = month_returns_df.T.iloc[2:,:].sum(axis=0)"
   ]
  },
  {
   "cell_type": "markdown",
   "metadata": {},
   "source": [
    "## **t-test**\n",
    "\n",
    "<hr>\n",
    "$$\n",
    "    t = \\frac{\\bar{X}_1 - \\bar{X}_2}{s_p\\sqrt{\\frac{1}{T}+\\frac{1}{T}}},\n",
    "$$\n",
    "\n",
    "where\n",
    "$$\n",
    "    s_p = \\sqrt{\\frac{(T-1)s_1^2 + (T-1)s_2^2}{2T-2}}\n",
    "$$"
   ]
  },
  {
   "cell_type": "code",
   "execution_count": 31,
   "metadata": {},
   "outputs": [
    {
     "data": {
      "text/plain": [
       "-0.2857945549922629"
      ]
     },
     "execution_count": 31,
     "metadata": {},
     "output_type": "execute_result"
    }
   ],
   "source": [
    "T=return_1M.shape[0]\n",
    "\n",
    "s_p = np.sqrt((T * (return_1M.var() + return_D3M.var()) ) / (2*T - 2))\n",
    "\n",
    "t = (return_1M.mean() - return_D3M.mean()) / (s_p * np.sqrt(2/T))\n",
    "\n",
    "t"
   ]
  },
  {
   "cell_type": "code",
   "execution_count": 27,
   "metadata": {},
   "outputs": [
    {
     "data": {
      "text/plain": [
       "0.0005617301162433863"
      ]
     },
     "execution_count": 27,
     "metadata": {},
     "output_type": "execute_result"
    }
   ],
   "source": [
    "return_1M.var()"
   ]
  },
  {
   "cell_type": "code",
   "execution_count": null,
   "metadata": {},
   "outputs": [],
   "source": []
  }
 ],
 "metadata": {
  "kernelspec": {
   "display_name": "Python 3",
   "language": "python",
   "name": "python3"
  },
  "language_info": {
   "codemirror_mode": {
    "name": "ipython",
    "version": 3
   },
   "file_extension": ".py",
   "mimetype": "text/x-python",
   "name": "python",
   "nbconvert_exporter": "python",
   "pygments_lexer": "ipython3",
   "version": "3.7.1"
  }
 },
 "nbformat": 4,
 "nbformat_minor": 4
}
