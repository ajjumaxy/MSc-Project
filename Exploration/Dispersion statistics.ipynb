{
 "cells": [
  {
   "cell_type": "markdown",
   "metadata": {},
   "source": [
    "## Settings"
   ]
  },
  {
   "cell_type": "code",
   "execution_count": 1,
   "metadata": {},
   "outputs": [],
   "source": [
    "reviews_path = 'C:\\\\Data\\\\UCL\\\\@MSc Project - Data and sources\\\\reviews.csv'"
   ]
  },
  {
   "cell_type": "code",
   "execution_count": 13,
   "metadata": {},
   "outputs": [],
   "source": [
    "from os.path import join\n",
    "from datetime import datetime\n",
    "from IPython.core.display import HTML\n",
    "\n",
    "import numpy as np\n",
    "import pandas as pd\n",
    "import matplotlib.pyplot as plt\n",
    "import seaborn as sns\n",
    "\n",
    "%matplotlib inline"
   ]
  },
  {
   "cell_type": "code",
   "execution_count": 14,
   "metadata": {},
   "outputs": [
    {
     "data": {
      "text/html": [
       "\n",
       "<style>\n",
       ".output_png {\n",
       "    display: table-cell;\n",
       "    text-align: center;\n",
       "    vertical_align: middle;\n",
       "}\n",
       "</style>\n"
      ],
      "text/plain": [
       "<IPython.core.display.HTML object>"
      ]
     },
     "execution_count": 14,
     "metadata": {},
     "output_type": "execute_result"
    }
   ],
   "source": [
    "# center plots\n",
    "HTML(\"\"\"\n",
    "<style>\n",
    ".output_png {\n",
    "    display: table-cell;\n",
    "    text-align: center;\n",
    "    vertical_align: middle;\n",
    "}\n",
    "</style>\n",
    "\"\"\")"
   ]
  },
  {
   "cell_type": "markdown",
   "metadata": {},
   "source": [
    "## Load the data"
   ]
  },
  {
   "cell_type": "code",
   "execution_count": 3,
   "metadata": {},
   "outputs": [],
   "source": [
    "reviews = pd.read_csv(reviews_path)\n",
    "\n",
    "min_date = datetime.strptime('2018-7-1', '%Y-%m-%d')\n",
    "max_date = datetime.strptime('2020-6-30', '%Y-%m-%d')\n",
    "reviews['Date'] = pd.to_datetime(reviews.Date)\n",
    "\n",
    "reviews = reviews[(reviews.Date >= min_date) & (reviews.Date <= max_date)]"
   ]
  },
  {
   "cell_type": "code",
   "execution_count": 5,
   "metadata": {},
   "outputs": [
    {
     "data": {
      "text/plain": [
       "Index(['id', 'Company_id', 'ReviewTitle', 'Rating', 'JobTitle',\n",
       "       'EmployeeRelationship', 'Contract', 'Pros', 'Cons', 'Year', 'Month',\n",
       "       'Day', 'Company', 'Sector', 'ListedOn', 'Review', 'ReviewLentgth',\n",
       "       'Date', 'Year-Month'],\n",
       "      dtype='object')"
      ]
     },
     "execution_count": 5,
     "metadata": {},
     "output_type": "execute_result"
    }
   ],
   "source": [
    "reviews.columns"
   ]
  },
  {
   "cell_type": "markdown",
   "metadata": {},
   "source": [
    "## ==Functions=="
   ]
  },
  {
   "cell_type": "code",
   "execution_count": 4,
   "metadata": {},
   "outputs": [],
   "source": [
    "# helper quantile/quartile functions\n",
    "\n",
    "def Q1(x):\n",
    "    return x.quantile(.25)\n",
    "\n",
    "def Q3(x):\n",
    "    return x.quantile(.75)\n",
    "\n",
    "def q5(x):\n",
    "    return x.quantile(.05)\n",
    "\n",
    "def q10(x):\n",
    "    return x.quantile(.1)\n",
    "\n",
    "def q90(x):\n",
    "    return x.quantile(.9)\n",
    "\n",
    "def q95(x):\n",
    "    return x.quantile(.95)"
   ]
  },
  {
   "cell_type": "code",
   "execution_count": 19,
   "metadata": {},
   "outputs": [],
   "source": [
    "def dispersion(reviews, group_by, agg_list):\n",
    "    return (\n",
    "        reviews\n",
    "        .groupby(group_by)\n",
    "        .Rating\n",
    "        .agg(agg_list)\n",
    "        .round(3)\n",
    "        .reset_index()\n",
    "    )"
   ]
  },
  {
   "cell_type": "markdown",
   "metadata": {},
   "source": [
    "# 1. Sentiment over time \n",
    " <hr>\n",
    "across whole company world"
   ]
  },
  {
   "cell_type": "code",
   "execution_count": 20,
   "metadata": {},
   "outputs": [],
   "source": [
    "over_time = dispersion(reviews, 'Year-Month', ['count', 'mean', 'std'])"
   ]
  },
  {
   "cell_type": "code",
   "execution_count": 31,
   "metadata": {},
   "outputs": [
    {
     "data": {
      "text/html": [
       "<div>\n",
       "<style scoped>\n",
       "    .dataframe tbody tr th:only-of-type {\n",
       "        vertical-align: middle;\n",
       "    }\n",
       "\n",
       "    .dataframe tbody tr th {\n",
       "        vertical-align: top;\n",
       "    }\n",
       "\n",
       "    .dataframe thead th {\n",
       "        text-align: right;\n",
       "    }\n",
       "</style>\n",
       "<table border=\"1\" class=\"dataframe\">\n",
       "  <thead>\n",
       "    <tr style=\"text-align: right;\">\n",
       "      <th></th>\n",
       "      <th>Year-Month</th>\n",
       "      <th>count</th>\n",
       "      <th>mean</th>\n",
       "      <th>std</th>\n",
       "    </tr>\n",
       "  </thead>\n",
       "  <tbody>\n",
       "    <tr>\n",
       "      <th>0</th>\n",
       "      <td>2018-07-01</td>\n",
       "      <td>16467</td>\n",
       "      <td>3.552</td>\n",
       "      <td>1.230</td>\n",
       "    </tr>\n",
       "    <tr>\n",
       "      <th>1</th>\n",
       "      <td>2018-08-01</td>\n",
       "      <td>18629</td>\n",
       "      <td>3.600</td>\n",
       "      <td>1.234</td>\n",
       "    </tr>\n",
       "    <tr>\n",
       "      <th>2</th>\n",
       "      <td>2018-09-01</td>\n",
       "      <td>16154</td>\n",
       "      <td>3.582</td>\n",
       "      <td>1.229</td>\n",
       "    </tr>\n",
       "    <tr>\n",
       "      <th>3</th>\n",
       "      <td>2018-10-01</td>\n",
       "      <td>16061</td>\n",
       "      <td>3.592</td>\n",
       "      <td>1.218</td>\n",
       "    </tr>\n",
       "    <tr>\n",
       "      <th>4</th>\n",
       "      <td>2018-11-01</td>\n",
       "      <td>13935</td>\n",
       "      <td>3.526</td>\n",
       "      <td>1.236</td>\n",
       "    </tr>\n",
       "    <tr>\n",
       "      <th>5</th>\n",
       "      <td>2018-12-01</td>\n",
       "      <td>11574</td>\n",
       "      <td>3.524</td>\n",
       "      <td>1.258</td>\n",
       "    </tr>\n",
       "    <tr>\n",
       "      <th>6</th>\n",
       "      <td>2019-01-01</td>\n",
       "      <td>16529</td>\n",
       "      <td>3.547</td>\n",
       "      <td>1.236</td>\n",
       "    </tr>\n",
       "    <tr>\n",
       "      <th>7</th>\n",
       "      <td>2019-02-01</td>\n",
       "      <td>15492</td>\n",
       "      <td>3.522</td>\n",
       "      <td>1.238</td>\n",
       "    </tr>\n",
       "    <tr>\n",
       "      <th>8</th>\n",
       "      <td>2019-03-01</td>\n",
       "      <td>17480</td>\n",
       "      <td>3.536</td>\n",
       "      <td>1.234</td>\n",
       "    </tr>\n",
       "    <tr>\n",
       "      <th>9</th>\n",
       "      <td>2019-04-01</td>\n",
       "      <td>16819</td>\n",
       "      <td>3.582</td>\n",
       "      <td>1.224</td>\n",
       "    </tr>\n",
       "    <tr>\n",
       "      <th>10</th>\n",
       "      <td>2019-05-01</td>\n",
       "      <td>17393</td>\n",
       "      <td>3.563</td>\n",
       "      <td>1.223</td>\n",
       "    </tr>\n",
       "    <tr>\n",
       "      <th>11</th>\n",
       "      <td>2019-06-01</td>\n",
       "      <td>17966</td>\n",
       "      <td>3.590</td>\n",
       "      <td>1.231</td>\n",
       "    </tr>\n",
       "    <tr>\n",
       "      <th>12</th>\n",
       "      <td>2019-07-01</td>\n",
       "      <td>19394</td>\n",
       "      <td>3.602</td>\n",
       "      <td>1.226</td>\n",
       "    </tr>\n",
       "    <tr>\n",
       "      <th>13</th>\n",
       "      <td>2019-08-01</td>\n",
       "      <td>18921</td>\n",
       "      <td>3.605</td>\n",
       "      <td>1.232</td>\n",
       "    </tr>\n",
       "    <tr>\n",
       "      <th>14</th>\n",
       "      <td>2019-09-01</td>\n",
       "      <td>18936</td>\n",
       "      <td>3.636</td>\n",
       "      <td>1.220</td>\n",
       "    </tr>\n",
       "    <tr>\n",
       "      <th>15</th>\n",
       "      <td>2019-10-01</td>\n",
       "      <td>19329</td>\n",
       "      <td>3.633</td>\n",
       "      <td>1.225</td>\n",
       "    </tr>\n",
       "    <tr>\n",
       "      <th>16</th>\n",
       "      <td>2019-11-01</td>\n",
       "      <td>15707</td>\n",
       "      <td>3.626</td>\n",
       "      <td>1.223</td>\n",
       "    </tr>\n",
       "    <tr>\n",
       "      <th>17</th>\n",
       "      <td>2019-12-01</td>\n",
       "      <td>13760</td>\n",
       "      <td>3.641</td>\n",
       "      <td>1.226</td>\n",
       "    </tr>\n",
       "    <tr>\n",
       "      <th>18</th>\n",
       "      <td>2020-01-01</td>\n",
       "      <td>17681</td>\n",
       "      <td>3.642</td>\n",
       "      <td>1.212</td>\n",
       "    </tr>\n",
       "    <tr>\n",
       "      <th>19</th>\n",
       "      <td>2020-02-01</td>\n",
       "      <td>17251</td>\n",
       "      <td>3.621</td>\n",
       "      <td>1.233</td>\n",
       "    </tr>\n",
       "    <tr>\n",
       "      <th>20</th>\n",
       "      <td>2020-03-01</td>\n",
       "      <td>13558</td>\n",
       "      <td>3.633</td>\n",
       "      <td>1.251</td>\n",
       "    </tr>\n",
       "    <tr>\n",
       "      <th>21</th>\n",
       "      <td>2020-04-01</td>\n",
       "      <td>12176</td>\n",
       "      <td>3.795</td>\n",
       "      <td>1.194</td>\n",
       "    </tr>\n",
       "    <tr>\n",
       "      <th>22</th>\n",
       "      <td>2020-05-01</td>\n",
       "      <td>14898</td>\n",
       "      <td>3.784</td>\n",
       "      <td>1.206</td>\n",
       "    </tr>\n",
       "    <tr>\n",
       "      <th>23</th>\n",
       "      <td>2020-06-01</td>\n",
       "      <td>16437</td>\n",
       "      <td>3.749</td>\n",
       "      <td>1.203</td>\n",
       "    </tr>\n",
       "  </tbody>\n",
       "</table>\n",
       "</div>"
      ],
      "text/plain": [
       "    Year-Month  count   mean    std\n",
       "0   2018-07-01  16467  3.552  1.230\n",
       "1   2018-08-01  18629  3.600  1.234\n",
       "2   2018-09-01  16154  3.582  1.229\n",
       "3   2018-10-01  16061  3.592  1.218\n",
       "4   2018-11-01  13935  3.526  1.236\n",
       "5   2018-12-01  11574  3.524  1.258\n",
       "6   2019-01-01  16529  3.547  1.236\n",
       "7   2019-02-01  15492  3.522  1.238\n",
       "8   2019-03-01  17480  3.536  1.234\n",
       "9   2019-04-01  16819  3.582  1.224\n",
       "10  2019-05-01  17393  3.563  1.223\n",
       "11  2019-06-01  17966  3.590  1.231\n",
       "12  2019-07-01  19394  3.602  1.226\n",
       "13  2019-08-01  18921  3.605  1.232\n",
       "14  2019-09-01  18936  3.636  1.220\n",
       "15  2019-10-01  19329  3.633  1.225\n",
       "16  2019-11-01  15707  3.626  1.223\n",
       "17  2019-12-01  13760  3.641  1.226\n",
       "18  2020-01-01  17681  3.642  1.212\n",
       "19  2020-02-01  17251  3.621  1.233\n",
       "20  2020-03-01  13558  3.633  1.251\n",
       "21  2020-04-01  12176  3.795  1.194\n",
       "22  2020-05-01  14898  3.784  1.206\n",
       "23  2020-06-01  16437  3.749  1.203"
      ]
     },
     "execution_count": 31,
     "metadata": {},
     "output_type": "execute_result"
    }
   ],
   "source": [
    "over_time"
   ]
  },
  {
   "cell_type": "code",
   "execution_count": 30,
   "metadata": {},
   "outputs": [
    {
     "data": {
      "text/plain": [
       "<function matplotlib.pyplot.tight_layout(pad=1.08, h_pad=None, w_pad=None, rect=None)>"
      ]
     },
     "execution_count": 30,
     "metadata": {},
     "output_type": "execute_result"
    },
    {
     "data": {
      "image/png": "[encoded data removed]",
      "text/plain": [
       "<Figure size 1296x432 with 1 Axes>"
      ]
     },
     "metadata": {
      "needs_background": "light"
     },
     "output_type": "display_data"
    }
   ],
   "source": [
    "plt.figure(figsize=(18,6))\n",
    "\n",
    "sns.lineplot(\n",
    "    x='Year-Month',\n",
    "    y='mean',\n",
    "    data = over_time,\n",
    ")\n",
    "\n",
    "plt.tight_layout"
   ]
  },
  {
   "cell_type": "code",
   "execution_count": 11,
   "metadata": {},
   "outputs": [
    {
     "ename": "NameError",
     "evalue": "name 'over' is not defined",
     "output_type": "error",
     "traceback": [
      "\u001b[1;31m---------------------------------------------------------------------------\u001b[0m",
      "\u001b[1;31mNameError\u001b[0m                                 Traceback (most recent call last)",
      "\u001b[1;32m<ipython-input-11-3b943ef196c0>\u001b[0m in \u001b[0;36m<module>\u001b[1;34m\u001b[0m\n\u001b[1;32m----> 1\u001b[1;33m \u001b[0mover\u001b[0m\u001b[1;33m-\u001b[0m\u001b[0mtime\u001b[0m\u001b[1;33m\u001b[0m\u001b[1;33m\u001b[0m\u001b[0m\n\u001b[0m",
      "\u001b[1;31mNameError\u001b[0m: name 'over' is not defined"
     ]
    }
   ],
   "source": [
    "over-time"
   ]
  },
  {
   "cell_type": "code",
   "execution_count": null,
   "metadata": {},
   "outputs": [],
   "source": []
  }
 ],
 "metadata": {
  "kernelspec": {
   "display_name": "Python 3",
   "language": "python",
   "name": "python3"
  },
  "language_info": {
   "codemirror_mode": {
    "name": "ipython",
    "version": 3
   },
   "file_extension": ".py",
   "mimetype": "text/x-python",
   "name": "python",
   "nbconvert_exporter": "python",
   "pygments_lexer": "ipython3",
   "version": "3.7.1"
  }
 },
 "nbformat": 4,
 "nbformat_minor": 4
}
