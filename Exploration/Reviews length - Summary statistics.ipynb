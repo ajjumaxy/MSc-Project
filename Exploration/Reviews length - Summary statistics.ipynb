{
 "cells": [
  {
   "cell_type": "markdown",
   "metadata": {},
   "source": [
    "## Settings"
   ]
  },
  {
   "cell_type": "code",
   "execution_count": 1,
   "metadata": {},
   "outputs": [],
   "source": [
    "reviews_path = 'C:\\\\Data\\\\UCL\\\\@MSc Project - Data and sources\\\\reviews.csv'"
   ]
  },
  {
   "cell_type": "code",
   "execution_count": 2,
   "metadata": {},
   "outputs": [],
   "source": [
    "import numpy as np\n",
    "import pandas as pd\n",
    "\n",
    "from os.path import join\n",
    "from datetime import datetime"
   ]
  },
  {
   "cell_type": "markdown",
   "metadata": {},
   "source": [
    "## Load the data"
   ]
  },
  {
   "cell_type": "code",
   "execution_count": 3,
   "metadata": {},
   "outputs": [],
   "source": [
    "reviews = pd.read_csv(reviews_path)\n",
    "\n",
    "min_date = datetime.strptime('2018-7-1', '%Y-%m-%d')\n",
    "max_date = datetime.strptime('2020-6-30', '%Y-%m-%d')\n",
    "reviews['Date'] = pd.to_datetime(reviews.Date)\n",
    "\n",
    "reviews = reviews[(reviews.Date >= min_date) & (reviews.Date <= max_date)]"
   ]
  },
  {
   "cell_type": "code",
   "execution_count": 13,
   "metadata": {},
   "outputs": [],
   "source": [
    "reviews['Review'] = reviews['Pros'] + ' ' + reviews['Cons']\n",
    "\n",
    "def length(review):\n",
    "    try:\n",
    "        return len(review.split())\n",
    "    except:\n",
    "        return 0\n",
    "\n",
    "reviews['ReviewLength'] = reviews['Review'].apply(lambda x: length(x))"
   ]
  },
  {
   "cell_type": "markdown",
   "metadata": {},
   "source": [
    "## ==FUNCTIONS=="
   ]
  },
  {
   "cell_type": "code",
   "execution_count": 4,
   "metadata": {},
   "outputs": [],
   "source": [
    "# helper quantile/quartile functions\n",
    "\n",
    "def q1(x):\n",
    "    return x.quantile(.25)\n",
    "\n",
    "def q3(x):\n",
    "    return x.quantile(.75)\n",
    "\n",
    "def q10(x):\n",
    "    return x.quantile(.1)\n",
    "\n",
    "def q90(x):\n",
    "    return x.quantile(.9)"
   ]
  },
  {
   "cell_type": "markdown",
   "metadata": {},
   "source": [
    "## 1. Reviews length w.r.t. market sector"
   ]
  },
  {
   "cell_type": "code",
   "execution_count": 15,
   "metadata": {},
   "outputs": [
    {
     "name": "stdout",
     "output_type": "stream",
     "text": [
      "                             mean        std   q10  q1  median  q3    q90\n",
      "Sector                                                                   \n",
      "Basic Materials         34.600736  50.252710  11.0  13      19  35   70.0\n",
      "Communication Services  35.133511  55.931461  11.0  13      18  34   72.0\n",
      "Consumer Cyclical       32.322703  48.931872  11.0  13      18  32   64.0\n",
      "Consumer Defensive      30.932061  46.808121  11.0  13      17  30   60.0\n",
      "Energy                  30.277014  46.995151  11.0  13      17  29   57.6\n",
      "Financial Services      31.429954  47.688007  11.0  13      17  30   61.0\n",
      "Healthcare              34.833119  50.321192  11.0  13      18  35   73.0\n",
      "Industrials             35.875773  56.412888  11.0  13      19  35   74.0\n",
      "None                    12.111111   1.763834  10.8  11      12  13   13.6\n",
      "Real Estate             46.837552  66.063087  11.0  14      23  52  104.0\n",
      "Technology              31.986482  50.599223  11.0  13      17  31   63.0\n",
      "Utilities               38.205475  59.174986  11.0  13      20  40   79.0\n"
     ]
    }
   ],
   "source": [
    "print(\n",
    "    reviews\n",
    "    .groupby('Sector')\n",
    "    .ReviewLength\n",
    "    .agg(['mean', 'std', q10, q1, 'median', q3, q90])\n",
    ")"
   ]
  },
  {
   "cell_type": "markdown",
   "metadata": {},
   "source": [
    "## 2. Reviews length w.r.t. stock market"
   ]
  },
  {
   "cell_type": "code",
   "execution_count": 17,
   "metadata": {},
   "outputs": [
    {
     "name": "stdout",
     "output_type": "stream",
     "text": [
      "                    mean        std  q10  q1  median  q3  q90\n",
      "ListedOn                                                     \n",
      "EURO STOXX 50  29.658994  40.917837   11  13      17  30   58\n",
      "FTSE 100       29.700024  42.879776   11  12      17  29   58\n",
      "S&P 500        33.367618  51.738888   11  13      18  32   67\n"
     ]
    }
   ],
   "source": [
    "print(\n",
    "    reviews\n",
    "    .groupby('ListedOn')\n",
    "    .ReviewLength\n",
    "    .agg(['mean', 'std', q10, q1, 'median', q3, q90])\n",
    ")"
   ]
  },
  {
   "cell_type": "markdown",
   "metadata": {},
   "source": [
    "## 3. Reviews length w.r.t. contract"
   ]
  },
  {
   "cell_type": "code",
   "execution_count": 29,
   "metadata": {},
   "outputs": [],
   "source": [
    "def update_Contract(x):\n",
    "    if x not in ['full-time', 'part-time']:\n",
    "        return 'Not specified'\n",
    "    else:\n",
    "        return x\n",
    "\n",
    "reviews['Contract'] = reviews['Contract'].apply(lambda x: update_Contract(x))"
   ]
  },
  {
   "cell_type": "code",
   "execution_count": 34,
   "metadata": {},
   "outputs": [
    {
     "name": "stdout",
     "output_type": "stream",
     "text": [
      "                    mean        std  q10  q1  median  q3  q90\n",
      "Contract                                                     \n",
      "Not specified  29.477666  45.990413   11  12      16  28   58\n",
      "full-time      33.791182  52.139903   11  13      18  33   68\n",
      "part-time      28.762779  41.832570   11  12      17  28   54\n"
     ]
    }
   ],
   "source": [
    "print(\n",
    "    reviews\n",
    "    .groupby('Contract')\n",
    "    .ReviewLength\n",
    "    .agg(['mean', 'std', q10, q1, 'median', q3, q90])\n",
    ")"
   ]
  },
  {
   "cell_type": "markdown",
   "metadata": {},
   "source": [
    "## 4. Reviews length w.r.t. employee relationship"
   ]
  },
  {
   "cell_type": "code",
   "execution_count": 35,
   "metadata": {},
   "outputs": [],
   "source": [
    "def update_EmployeeRelationship(x):\n",
    "    if x not in ['Current Employee', 'Former Employee']:\n",
    "        return 'Not specified'\n",
    "    else:\n",
    "        return x\n",
    "    \n",
    "reviews['EmployeeRelationship'] = reviews['EmployeeRelationship'].apply(lambda x: update_EmployeeRelationship(x))"
   ]
  },
  {
   "cell_type": "code",
   "execution_count": 36,
   "metadata": {},
   "outputs": [
    {
     "name": "stdout",
     "output_type": "stream",
     "text": [
      "                           mean        std  q10  q1  median  q3  q90\n",
      "EmployeeRelationship                                                \n",
      "Current Employee      31.910563  46.631240   11  13      18  31   64\n",
      "Former Employee       34.577048  55.976625   11  13      18  33   69\n",
      "Not specified         29.478771  45.992825   11  12      16  28   58\n"
     ]
    }
   ],
   "source": [
    "print(\n",
    "    reviews\n",
    "    .groupby('EmployeeRelationship')\n",
    "    .ReviewLength\n",
    "    .agg(['mean', 'std', q10, q1, 'median', q3, q90])\n",
    ")"
   ]
  },
  {
   "cell_type": "code",
   "execution_count": 37,
   "metadata": {},
   "outputs": [
    {
     "name": "stdout",
     "output_type": "stream",
     "text": [
      "mean      32.846623\n",
      "std       50.505398\n",
      "q10       11.000000\n",
      "q1        13.000000\n",
      "median    18.000000\n",
      "q3        32.000000\n",
      "q90       66.000000\n",
      "Name: ReviewLength, dtype: float64\n"
     ]
    }
   ],
   "source": [
    "print(\n",
    "    reviews\n",
    "    .ReviewLength\n",
    "    .agg(['mean', 'std', q10, q1, 'median', q3, q90])\n",
    ")"
   ]
  },
  {
   "cell_type": "code",
   "execution_count": null,
   "metadata": {},
   "outputs": [],
   "source": []
  }
 ],
 "metadata": {
  "kernelspec": {
   "display_name": "Python 3",
   "language": "python",
   "name": "python3"
  },
  "language_info": {
   "codemirror_mode": {
    "name": "ipython",
    "version": 3
   },
   "file_extension": ".py",
   "mimetype": "text/x-python",
   "name": "python",
   "nbconvert_exporter": "python",
   "pygments_lexer": "ipython3",
   "version": "3.7.1"
  }
 },
 "nbformat": 4,
 "nbformat_minor": 4
}
