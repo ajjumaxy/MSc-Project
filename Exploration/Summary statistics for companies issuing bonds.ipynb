{
 "cells": [
  {
   "cell_type": "markdown",
   "metadata": {},
   "source": [
    "## Settings"
   ]
  },
  {
   "cell_type": "code",
   "execution_count": 8,
   "metadata": {},
   "outputs": [],
   "source": [
    "reviews_path = 'C:\\\\Data\\\\UCL\\\\@MSc Project - Data and sources\\\\reviews.csv'\n",
    "\n",
    "bond_dataset_path = 'C:\\\\Data\\\\UCL\\\\@MSc Project - Data and sources\\\\List of bonds'\n",
    "\n",
    "bond_datasets = ['Bond_dataset_new', 'Bond_EURO_dataset', 'Bond_FTSE_dataset']"
   ]
  },
  {
   "cell_type": "code",
   "execution_count": 12,
   "metadata": {},
   "outputs": [],
   "source": [
    "import numpy as np\n",
    "import pandas as pd\n",
    "\n",
    "from os.path import join\n",
    "from datetime import datetime"
   ]
  },
  {
   "cell_type": "markdown",
   "metadata": {},
   "source": [
    "## Load the data"
   ]
  },
  {
   "cell_type": "markdown",
   "metadata": {},
   "source": [
    "**Reviews**"
   ]
  },
  {
   "cell_type": "code",
   "execution_count": 11,
   "metadata": {},
   "outputs": [],
   "source": [
    "reviews = pd.read_csv(reviews_path)\n",
    "\n",
    "min_date = datetime.strptime('2018-7-1', '%Y-%m-%d')\n",
    "max_date = datetime.strptime('2020-6-30', '%Y-%m-%d')\n",
    "reviews['Date'] = pd.to_datetime(reviews.Date)\n",
    "\n",
    "reviews = reviews[(reviews.Date >= min_date) & (reviews.Date <= max_date)]"
   ]
  },
  {
   "cell_type": "markdown",
   "metadata": {},
   "source": [
    "**Bond dataset**"
   ]
  },
  {
   "cell_type": "code",
   "execution_count": 22,
   "metadata": {},
   "outputs": [],
   "source": [
    "bonds_dataset = {\n",
    "    dataset: pd.read_csv(join(bond_dataset_path, dataset + '.csv')) for dataset in bond_datasets\n",
    "}\n",
    "\n",
    "bonds = sum(\n",
    "    [list(dataset.Company.unique()) for dataset in bonds_dataset.values()], []\n",
    ")"
   ]
  },
  {
   "cell_type": "markdown",
   "metadata": {},
   "source": [
    "## Filter the data"
   ]
  },
  {
   "cell_type": "code",
   "execution_count": 23,
   "metadata": {},
   "outputs": [],
   "source": [
    "reviews = reviews[reviews.Company.isin(bonds)]"
   ]
  },
  {
   "cell_type": "markdown",
   "metadata": {},
   "source": [
    "### ==Functions=="
   ]
  },
  {
   "cell_type": "code",
   "execution_count": 25,
   "metadata": {},
   "outputs": [],
   "source": [
    "# helper quantile/quartile functions\n",
    "\n",
    "def q1(x):\n",
    "    return x.quantile(.25)\n",
    "\n",
    "def q3(x):\n",
    "    return x.quantile(.75)\n",
    "\n",
    "def q10(x):\n",
    "    return x.quantile(.1)\n",
    "\n",
    "def q90(x):\n",
    "    return x.quantile(.9)"
   ]
  },
  {
   "cell_type": "markdown",
   "metadata": {},
   "source": [
    "## 1. Market indices"
   ]
  },
  {
   "cell_type": "code",
   "execution_count": 42,
   "metadata": {},
   "outputs": [
    {
     "name": "stdout",
     "output_type": "stream",
     "text": [
      "                count      mean       std   q1  median   q3\n",
      "ListedOn                                                   \n",
      "EURO STOXX 50    3235  4.126121  1.020892  4.0     4.0  5.0\n",
      "FTSE 100         5341  3.735068  1.142155  3.0     4.0  5.0\n",
      "S&P 500        274426  3.595323  1.236797  3.0     4.0  5.0\n"
     ]
    }
   ],
   "source": [
    "print(\n",
    "    reviews\n",
    "    .groupby('ListedOn')\n",
    "    .Rating\n",
    "    .agg(['count', 'mean', 'std', q1, 'median', q3])\n",
    ")"
   ]
  },
  {
   "cell_type": "markdown",
   "metadata": {},
   "source": [
    "## 2. Market sectors"
   ]
  },
  {
   "cell_type": "code",
   "execution_count": 43,
   "metadata": {},
   "outputs": [
    {
     "name": "stdout",
     "output_type": "stream",
     "text": [
      "                        count      mean       std   q1  median   q3\n",
      "Sector                                                             \n",
      "Basic Materials          2498  3.595677  1.196315  3.0     4.0  5.0\n",
      "Communication Services  18781  3.572919  1.276506  3.0     4.0  5.0\n",
      "Consumer Cyclical       71644  3.660837  1.208333  3.0     4.0  5.0\n",
      "Consumer Defensive      29423  3.349013  1.262811  3.0     3.0  4.0\n",
      "Energy                   3085  3.607455  1.203059  3.0     4.0  5.0\n",
      "Financial Services      43584  3.587899  1.215689  3.0     4.0  5.0\n",
      "Healthcare              25564  3.443358  1.299782  3.0     4.0  5.0\n",
      "Industrials             23060  3.547962  1.283081  3.0     4.0  5.0\n",
      "Real Estate              1779  3.664980  1.423791  3.0     4.0  5.0\n",
      "Technology              61954  3.764858  1.167811  3.0     4.0  5.0\n",
      "Utilities                1630  3.639877  1.305325  3.0     4.0  5.0\n"
     ]
    }
   ],
   "source": [
    "print(\n",
    "    reviews\n",
    "    .groupby('Sector')\n",
    "    .Rating\n",
    "    .agg(['count', 'mean', 'std', q1, 'median', q3])\n",
    ")"
   ]
  },
  {
   "cell_type": "markdown",
   "metadata": {},
   "source": [
    "## 3. Employees"
   ]
  },
  {
   "cell_type": "code",
   "execution_count": 40,
   "metadata": {},
   "outputs": [
    {
     "name": "stderr",
     "output_type": "stream",
     "text": [
      "C:\\Users\\danie\\Anaconda3\\lib\\site-packages\\ipykernel_launcher.py:13: SettingWithCopyWarning: \n",
      "A value is trying to be set on a copy of a slice from a DataFrame.\n",
      "Try using .loc[row_indexer,col_indexer] = value instead\n",
      "\n",
      "See the caveats in the documentation: https://pandas.pydata.org/pandas-docs/stable/user_guide/indexing.html#returning-a-view-versus-a-copy\n",
      "  del sys.path[0]\n",
      "C:\\Users\\danie\\Anaconda3\\lib\\site-packages\\ipykernel_launcher.py:14: SettingWithCopyWarning: \n",
      "A value is trying to be set on a copy of a slice from a DataFrame.\n",
      "Try using .loc[row_indexer,col_indexer] = value instead\n",
      "\n",
      "See the caveats in the documentation: https://pandas.pydata.org/pandas-docs/stable/user_guide/indexing.html#returning-a-view-versus-a-copy\n",
      "  \n"
     ]
    }
   ],
   "source": [
    "def update_EmployeeRelationship(x):\n",
    "    if x not in ['Current Employee', 'Former Employee']:\n",
    "        return 'Not specified'\n",
    "    else:\n",
    "        return x\n",
    "    \n",
    "def update_Contract(x):\n",
    "    if x not in ['full-time', 'part-time']:\n",
    "        return 'Not specified'\n",
    "    else:\n",
    "        return x\n",
    "\n",
    "reviews['EmployeeRelationship'] = reviews['EmployeeRelationship'].apply(lambda x: update_EmployeeRelationship(x))\n",
    "reviews['Contract'] = reviews['Contract'].apply(lambda x: update_Contract(x))"
   ]
  },
  {
   "cell_type": "code",
   "execution_count": 41,
   "metadata": {},
   "outputs": [
    {
     "name": "stdout",
     "output_type": "stream",
     "text": [
      "                count      mean       std   q1  median   q3\n",
      "Contract                                                   \n",
      "Not specified   13346  3.500375  1.294844  3.0     4.0  5.0\n",
      "full-time      226117  3.617512  1.241071  3.0     4.0  5.0\n",
      "part-time       43539  3.565769  1.175984  3.0     4.0  4.0\n"
     ]
    }
   ],
   "source": [
    "print(\n",
    "    reviews\n",
    "    .groupby('Contract')\n",
    "    .Rating\n",
    "    .agg(['count', 'mean', 'std', q1, 'median', q3])\n",
    ")"
   ]
  },
  {
   "cell_type": "code",
   "execution_count": 38,
   "metadata": {},
   "outputs": [
    {
     "name": "stdout",
     "output_type": "stream",
     "text": [
      "                       count      mean       std   q1  median   q3\n",
      "EmployeeRelationship                                              \n",
      "Current Employee      157649  3.792723  1.164325  3.0     4.0  5.0\n",
      "Former Employee       112008  3.350796  1.274997  3.0     4.0  4.0\n",
      "Not specified          13345  3.500337  1.294885  3.0     4.0  5.0\n"
     ]
    }
   ],
   "source": [
    "print(\n",
    "    reviews\n",
    "    .groupby('EmployeeRelationship')\n",
    "    .Rating\n",
    "    .agg(['count', 'mean', 'std', q1, 'median', q3])\n",
    ")"
   ]
  },
  {
   "cell_type": "code",
   "execution_count": 32,
   "metadata": {},
   "outputs": [
    {
     "name": "stdout",
     "output_type": "stream",
     "text": [
      "count     283002.000000\n",
      "mean           3.604028\n",
      "std            1.234241\n",
      "q1             3.000000\n",
      "median         4.000000\n",
      "q3             5.000000\n",
      "Name: Rating, dtype: float64\n"
     ]
    }
   ],
   "source": [
    "print(\n",
    "    reviews\n",
    "    .Rating\n",
    "    .agg(['count', 'mean', 'std', q1, 'median', q3])\n",
    ")"
   ]
  },
  {
   "cell_type": "code",
   "execution_count": 35,
   "metadata": {},
   "outputs": [
    {
     "data": {
      "text/plain": [
       "array(['full-time', 'part-time', nan], dtype=object)"
      ]
     },
     "execution_count": 35,
     "metadata": {},
     "output_type": "execute_result"
    }
   ],
   "source": [
    "reviews.Contract.unique()"
   ]
  },
  {
   "cell_type": "code",
   "execution_count": null,
   "metadata": {},
   "outputs": [],
   "source": []
  }
 ],
 "metadata": {
  "kernelspec": {
   "display_name": "Python 3",
   "language": "python",
   "name": "python3"
  },
  "language_info": {
   "codemirror_mode": {
    "name": "ipython",
    "version": 3
   },
   "file_extension": ".py",
   "mimetype": "text/x-python",
   "name": "python",
   "nbconvert_exporter": "python",
   "pygments_lexer": "ipython3",
   "version": "3.7.1"
  }
 },
 "nbformat": 4,
 "nbformat_minor": 4
}
